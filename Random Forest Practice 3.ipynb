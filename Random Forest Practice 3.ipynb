{
 "cells": [
  {
   "cell_type": "code",
   "execution_count": 4,
   "id": "121f4168",
   "metadata": {},
   "outputs": [],
   "source": [
    "import numpy as np\n",
    "import pandas as pd\n",
    "import matplotlib.pyplot as plt"
   ]
  },
  {
   "cell_type": "code",
   "execution_count": 6,
   "id": "118f0442",
   "metadata": {},
   "outputs": [],
   "source": [
    "dataset = pd.read_csv(\"D:/survey lung cancer1.csv\")\n",
    "X = dataset.iloc[:, :-1].values\n",
    "Y = dataset.iloc[:, -1].values"
   ]
  },
  {
   "cell_type": "code",
   "execution_count": 7,
   "id": "7f5b53dc",
   "metadata": {},
   "outputs": [
    {
     "data": {
      "text/html": [
       "<div>\n",
       "<style scoped>\n",
       "    .dataframe tbody tr th:only-of-type {\n",
       "        vertical-align: middle;\n",
       "    }\n",
       "\n",
       "    .dataframe tbody tr th {\n",
       "        vertical-align: top;\n",
       "    }\n",
       "\n",
       "    .dataframe thead th {\n",
       "        text-align: right;\n",
       "    }\n",
       "</style>\n",
       "<table border=\"1\" class=\"dataframe\">\n",
       "  <thead>\n",
       "    <tr style=\"text-align: right;\">\n",
       "      <th></th>\n",
       "      <th>GENDER</th>\n",
       "      <th>AGE</th>\n",
       "      <th>SMOKING</th>\n",
       "      <th>YELLOW_FINGERS</th>\n",
       "      <th>ANXIETY</th>\n",
       "      <th>PEER_PRESSURE</th>\n",
       "      <th>CHRONIC DISEASE</th>\n",
       "      <th>FATIGUE</th>\n",
       "      <th>ALLERGY</th>\n",
       "      <th>WHEEZING</th>\n",
       "      <th>ALCOHOL CONSUMING</th>\n",
       "      <th>COUGHING</th>\n",
       "      <th>SHORTNESS OF BREATH</th>\n",
       "      <th>SWALLOWING DIFFICULTY</th>\n",
       "      <th>CHEST PAIN</th>\n",
       "      <th>Level</th>\n",
       "    </tr>\n",
       "  </thead>\n",
       "  <tbody>\n",
       "    <tr>\n",
       "      <th>0</th>\n",
       "      <td>1</td>\n",
       "      <td>69</td>\n",
       "      <td>1</td>\n",
       "      <td>2</td>\n",
       "      <td>2</td>\n",
       "      <td>1</td>\n",
       "      <td>1</td>\n",
       "      <td>2</td>\n",
       "      <td>1</td>\n",
       "      <td>2</td>\n",
       "      <td>2</td>\n",
       "      <td>2</td>\n",
       "      <td>2</td>\n",
       "      <td>2</td>\n",
       "      <td>2</td>\n",
       "      <td>1</td>\n",
       "    </tr>\n",
       "    <tr>\n",
       "      <th>1</th>\n",
       "      <td>1</td>\n",
       "      <td>74</td>\n",
       "      <td>2</td>\n",
       "      <td>1</td>\n",
       "      <td>1</td>\n",
       "      <td>1</td>\n",
       "      <td>2</td>\n",
       "      <td>2</td>\n",
       "      <td>2</td>\n",
       "      <td>1</td>\n",
       "      <td>1</td>\n",
       "      <td>1</td>\n",
       "      <td>2</td>\n",
       "      <td>2</td>\n",
       "      <td>2</td>\n",
       "      <td>1</td>\n",
       "    </tr>\n",
       "    <tr>\n",
       "      <th>2</th>\n",
       "      <td>0</td>\n",
       "      <td>59</td>\n",
       "      <td>1</td>\n",
       "      <td>1</td>\n",
       "      <td>1</td>\n",
       "      <td>2</td>\n",
       "      <td>1</td>\n",
       "      <td>2</td>\n",
       "      <td>1</td>\n",
       "      <td>2</td>\n",
       "      <td>1</td>\n",
       "      <td>2</td>\n",
       "      <td>2</td>\n",
       "      <td>1</td>\n",
       "      <td>2</td>\n",
       "      <td>0</td>\n",
       "    </tr>\n",
       "    <tr>\n",
       "      <th>3</th>\n",
       "      <td>1</td>\n",
       "      <td>63</td>\n",
       "      <td>2</td>\n",
       "      <td>2</td>\n",
       "      <td>2</td>\n",
       "      <td>1</td>\n",
       "      <td>1</td>\n",
       "      <td>1</td>\n",
       "      <td>1</td>\n",
       "      <td>1</td>\n",
       "      <td>2</td>\n",
       "      <td>1</td>\n",
       "      <td>1</td>\n",
       "      <td>2</td>\n",
       "      <td>2</td>\n",
       "      <td>0</td>\n",
       "    </tr>\n",
       "    <tr>\n",
       "      <th>4</th>\n",
       "      <td>0</td>\n",
       "      <td>63</td>\n",
       "      <td>1</td>\n",
       "      <td>2</td>\n",
       "      <td>1</td>\n",
       "      <td>1</td>\n",
       "      <td>1</td>\n",
       "      <td>1</td>\n",
       "      <td>1</td>\n",
       "      <td>2</td>\n",
       "      <td>1</td>\n",
       "      <td>2</td>\n",
       "      <td>2</td>\n",
       "      <td>1</td>\n",
       "      <td>1</td>\n",
       "      <td>0</td>\n",
       "    </tr>\n",
       "  </tbody>\n",
       "</table>\n",
       "</div>"
      ],
      "text/plain": [
       "   GENDER  AGE  SMOKING  YELLOW_FINGERS  ANXIETY  PEER_PRESSURE  \\\n",
       "0       1   69        1               2        2              1   \n",
       "1       1   74        2               1        1              1   \n",
       "2       0   59        1               1        1              2   \n",
       "3       1   63        2               2        2              1   \n",
       "4       0   63        1               2        1              1   \n",
       "\n",
       "   CHRONIC DISEASE  FATIGUE   ALLERGY   WHEEZING  ALCOHOL CONSUMING  COUGHING  \\\n",
       "0                1         2         1         2                  2         2   \n",
       "1                2         2         2         1                  1         1   \n",
       "2                1         2         1         2                  1         2   \n",
       "3                1         1         1         1                  2         1   \n",
       "4                1         1         1         2                  1         2   \n",
       "\n",
       "   SHORTNESS OF BREATH  SWALLOWING DIFFICULTY  CHEST PAIN  Level  \n",
       "0                    2                      2           2      1  \n",
       "1                    2                      2           2      1  \n",
       "2                    2                      1           2      0  \n",
       "3                    1                      2           2      0  \n",
       "4                    2                      1           1      0  "
      ]
     },
     "execution_count": 7,
     "metadata": {},
     "output_type": "execute_result"
    }
   ],
   "source": [
    "dataset.head()"
   ]
  },
  {
   "cell_type": "code",
   "execution_count": 8,
   "id": "165bc82f",
   "metadata": {},
   "outputs": [
    {
     "data": {
      "text/plain": [
       "(309, 16)"
      ]
     },
     "execution_count": 8,
     "metadata": {},
     "output_type": "execute_result"
    }
   ],
   "source": [
    "dataset.shape"
   ]
  },
  {
   "cell_type": "code",
   "execution_count": 9,
   "id": "647d48ad",
   "metadata": {},
   "outputs": [
    {
     "data": {
      "text/plain": [
       "<bound method DataFrame.info of      GENDER  AGE  SMOKING  YELLOW_FINGERS  ANXIETY  PEER_PRESSURE  \\\n",
       "0         1   69        1               2        2              1   \n",
       "1         1   74        2               1        1              1   \n",
       "2         0   59        1               1        1              2   \n",
       "3         1   63        2               2        2              1   \n",
       "4         0   63        1               2        1              1   \n",
       "..      ...  ...      ...             ...      ...            ...   \n",
       "304       0   56        1               1        1              2   \n",
       "305       1   70        2               1        1              1   \n",
       "306       1   58        2               1        1              1   \n",
       "307       1   67        2               1        2              1   \n",
       "308       1   62        1               1        1              2   \n",
       "\n",
       "     CHRONIC DISEASE  FATIGUE   ALLERGY   WHEEZING  ALCOHOL CONSUMING  \\\n",
       "0                  1         2         1         2                  2   \n",
       "1                  2         2         2         1                  1   \n",
       "2                  1         2         1         2                  1   \n",
       "3                  1         1         1         1                  2   \n",
       "4                  1         1         1         2                  1   \n",
       "..               ...       ...       ...       ...                ...   \n",
       "304                2         2         1         1                  2   \n",
       "305                1         2         2         2                  2   \n",
       "306                1         1         2         2                  2   \n",
       "307                1         2         2         1                  2   \n",
       "308                1         2         2         2                  2   \n",
       "\n",
       "     COUGHING  SHORTNESS OF BREATH  SWALLOWING DIFFICULTY  CHEST PAIN  Level  \n",
       "0           2                    2                      2           2      1  \n",
       "1           1                    2                      2           2      1  \n",
       "2           2                    2                      1           2      0  \n",
       "3           1                    1                      2           2      0  \n",
       "4           2                    2                      1           1      0  \n",
       "..        ...                  ...                    ...         ...    ...  \n",
       "304         2                    2                      2           1      1  \n",
       "305         2                    2                      1           2      1  \n",
       "306         2                    1                      1           2      1  \n",
       "307         2                    2                      1           2      1  \n",
       "308         1                    1                      2           1      1  \n",
       "\n",
       "[309 rows x 16 columns]>"
      ]
     },
     "execution_count": 9,
     "metadata": {},
     "output_type": "execute_result"
    }
   ],
   "source": [
    "dataset.info"
   ]
  },
  {
   "cell_type": "code",
   "execution_count": 10,
   "id": "5bb57e32",
   "metadata": {},
   "outputs": [],
   "source": [
    "from sklearn.model_selection import train_test_split\n",
    "X_train, X_test, Y_train, Y_test = train_test_split(X, Y, test_size=0.25, random_state=0)"
   ]
  },
  {
   "cell_type": "code",
   "execution_count": 11,
   "id": "23bc9e88",
   "metadata": {},
   "outputs": [
    {
     "data": {
      "text/plain": [
       "(231, 15)"
      ]
     },
     "execution_count": 11,
     "metadata": {},
     "output_type": "execute_result"
    }
   ],
   "source": [
    "X_train.shape"
   ]
  },
  {
   "cell_type": "code",
   "execution_count": 12,
   "id": "a09bd5fb",
   "metadata": {},
   "outputs": [
    {
     "data": {
      "text/plain": [
       "array([[ 0, 68,  1,  1,  2,  1,  2,  1,  2,  2,  2,  1,  1,  2,  1],\n",
       "       [ 1, 64,  2,  2,  2,  2,  1,  2,  2,  1,  2,  2,  2,  1,  2],\n",
       "       [ 1, 62,  1,  1,  1,  1,  2,  1,  2,  1,  2,  2,  2,  2,  2],\n",
       "       [ 1, 68,  1,  1,  2,  2,  2,  1,  1,  1,  2,  1,  1,  1,  1],\n",
       "       [ 0, 67,  2,  2,  2,  2,  1,  2,  1,  1,  1,  1,  1,  1,  1],\n",
       "       [ 0, 65,  2,  2,  2,  2,  1,  2,  1,  2,  1,  2,  2,  2,  1],\n",
       "       [ 0, 55,  2,  2,  2,  2,  2,  2,  1,  2,  1,  2,  2,  2,  1],\n",
       "       [ 0, 71,  2,  2,  2,  2,  2,  2,  1,  2,  1,  2,  1,  2,  2],\n",
       "       [ 0, 61,  2,  2,  2,  1,  1,  2,  2,  1,  2,  1,  2,  2,  2],\n",
       "       [ 0, 56,  1,  2,  1,  1,  2,  2,  2,  2,  1,  2,  2,  1,  2],\n",
       "       [ 1, 64,  1,  2,  2,  2,  1,  1,  2,  1,  2,  1,  1,  2,  2],\n",
       "       [ 0, 62,  1,  1,  1,  2,  1,  1,  1,  2,  2,  1,  1,  2,  2],\n",
       "       [ 0, 56,  2,  2,  2,  1,  1,  2,  2,  1,  1,  1,  2,  1,  2],\n",
       "       [ 1, 52,  1,  2,  2,  1,  2,  1,  2,  2,  2,  2,  1,  2,  1],\n",
       "       [ 0, 21,  2,  1,  1,  1,  2,  2,  2,  1,  1,  1,  2,  1,  1],\n",
       "       [ 1, 67,  2,  1,  2,  1,  1,  2,  2,  1,  2,  2,  2,  1,  2],\n",
       "       [ 1, 59,  2,  1,  1,  1,  1,  2,  2,  2,  2,  2,  2,  1,  2],\n",
       "       [ 0, 49,  1,  2,  2,  1,  1,  1,  1,  1,  1,  2,  1,  1,  1],\n",
       "       [ 1, 61,  1,  1,  2,  2,  2,  1,  1,  1,  2,  1,  1,  1,  1],\n",
       "       [ 1, 68,  2,  1,  2,  1,  1,  2,  1,  1,  1,  1,  1,  1,  1],\n",
       "       [ 1, 65,  2,  2,  2,  2,  2,  1,  1,  1,  1,  1,  1,  1,  1],\n",
       "       [ 0, 48,  1,  2,  2,  2,  2,  2,  2,  2,  1,  2,  2,  2,  1],\n",
       "       [ 0, 55,  2,  1,  1,  2,  2,  2,  2,  2,  2,  1,  1,  2,  2],\n",
       "       [ 1, 70,  1,  2,  1,  2,  2,  2,  2,  2,  2,  2,  1,  2,  2]],\n",
       "      dtype=int64)"
      ]
     },
     "execution_count": 12,
     "metadata": {},
     "output_type": "execute_result"
    }
   ],
   "source": [
    "X_test[:24]"
   ]
  },
  {
   "cell_type": "code",
   "execution_count": 13,
   "id": "18ecfe95",
   "metadata": {},
   "outputs": [
    {
     "name": "stdout",
     "output_type": "stream",
     "text": [
      "[1 0 0 1 1 0 1 1 1 0 1 1 0 1 1 0 1 1 1 1 1 1 1 1 1 1 0 1 1 1 1 1 0 1 1 1 1\n",
      " 1 0 1 1 1 1 1 1 1 1 0 1 1 1 1 1 1 1 1 1 1 1 1 1 1 1 1 1 0 1 1 0 1 0 1 1 1\n",
      " 1 0 1 1 1 0 0 1 1 0 1 1 1 0 1 1 1 0 1 0 1 1 1 1 1 1 1 1 0 1 1 1 1 1 1 1 1\n",
      " 1 1 1 1 1 1 1 1 1 1 1 1 1 1 1 1 1 1 1 1 1 1 1 1 1 1 1 1 1 1 1 1 0 1 1 1 1\n",
      " 0 1 1 1 1 1 1 1 1 1 1 1 1 1 1 1 1 1 1 1 1 1 1 0 1 1 1 1 1 1 1 1 1 1 1 1 1\n",
      " 1 1 0 1 1 0 1 1 1 1 1 0 1 1 0 1 1 1 1 1 1 1 1 1 1 1 1 1 1 1 1 1 1 1 1 1 1\n",
      " 0 1 1 1 1 1 1 1 1]\n"
     ]
    }
   ],
   "source": [
    "print(Y_train)"
   ]
  },
  {
   "cell_type": "code",
   "execution_count": 14,
   "id": "5da157ae",
   "metadata": {},
   "outputs": [
    {
     "name": "stdout",
     "output_type": "stream",
     "text": [
      "[1 1 1 0 1 1 1 1 1 1 1 1 1 1 0 1 1 1 0 0 1 1 1 1 0 0 1 1 1 1 1 1 1 1 1 1 1\n",
      " 1 1 1 1 1 1 1 1 0 1 1 1 0 1 0 1 1 1 1 1 0 1 1 1 1 1 1 1 1 1 1 1 1 1 1 1 1\n",
      " 1 1 1 1]\n"
     ]
    }
   ],
   "source": [
    "print(Y_test)"
   ]
  },
  {
   "cell_type": "code",
   "execution_count": 15,
   "id": "96453861",
   "metadata": {},
   "outputs": [],
   "source": [
    "from sklearn.preprocessing import StandardScaler\n",
    "sc = StandardScaler()\n",
    "X_train = sc.fit_transform(X_train)\n",
    "X_test = sc.fit_transform(X_test)"
   ]
  },
  {
   "cell_type": "code",
   "execution_count": 16,
   "id": "7bfe3c03",
   "metadata": {},
   "outputs": [
    {
     "name": "stdout",
     "output_type": "stream",
     "text": [
      "[[-1.02188443 -0.2500683   0.91287093  0.85081173  1.04880885  0.99568033\n",
      "   0.9617692   0.71400555 -1.07651219 -1.18585412 -1.12459143 -1.20724762\n",
      "   0.72787453  1.04880885 -1.12459143]\n",
      " [ 0.97858424 -1.02544785 -1.09544512  0.85081173 -0.95346259 -1.00433842\n",
      "  -1.03975049  0.71400555 -1.07651219  0.84327404  0.88921183  0.82833048\n",
      "   0.72787453 -0.95346259 -1.12459143]\n",
      " [ 0.97858424  0.7837711   0.91287093 -1.17534816 -0.95346259  0.99568033\n",
      "  -1.03975049 -1.40054934 -1.07651219 -1.18585412 -1.12459143 -1.20724762\n",
      "  -1.37386317 -0.95346259  0.88921183]\n",
      " [-1.02188443 -2.44697702  0.91287093  0.85081173  1.04880885  0.99568033\n",
      "   0.9617692   0.71400555 -1.07651219 -1.18585412 -1.12459143 -1.20724762\n",
      "   0.72787453  1.04880885 -1.12459143]\n",
      " [ 0.97858424 -0.12083837  0.91287093  0.85081173 -0.95346259 -1.00433842\n",
      "   0.9617692  -1.40054934  0.92892585 -1.18585412 -1.12459143  0.82833048\n",
      "   0.72787453  1.04880885  0.88921183]\n",
      " [ 0.97858424 -0.50852815 -1.09544512 -1.17534816 -0.95346259  0.99568033\n",
      "  -1.03975049  0.71400555 -1.07651219  0.84327404 -1.12459143 -1.20724762\n",
      "   0.72787453 -0.95346259  0.88921183]\n",
      " [-1.02188443  0.13762148  0.91287093  0.85081173 -0.95346259  0.99568033\n",
      "   0.9617692   0.71400555  0.92892585  0.84327404 -1.12459143  0.82833048\n",
      "   0.72787453 -0.95346259 -1.12459143]\n",
      " [ 0.97858424  0.52531125 -1.09544512 -1.17534816 -0.95346259  0.99568033\n",
      "  -1.03975049  0.71400555 -1.07651219  0.84327404 -1.12459143  0.82833048\n",
      "   0.72787453 -0.95346259  0.88921183]\n",
      " [-1.02188443  1.04223095  0.91287093  0.85081173  1.04880885 -1.00433842\n",
      "  -1.03975049 -1.40054934  0.92892585 -1.18585412  0.88921183  0.82833048\n",
      "   0.72787453 -0.95346259  0.88921183]\n",
      " [ 0.97858424  0.7837711  -1.09544512 -1.17534816 -0.95346259  0.99568033\n",
      "  -1.03975049  0.71400555 -1.07651219  0.84327404 -1.12459143  0.82833048\n",
      "   0.72787453 -0.95346259  0.88921183]]\n"
     ]
    }
   ],
   "source": [
    "print(X_train[0:10])"
   ]
  },
  {
   "cell_type": "code",
   "execution_count": 17,
   "id": "e3ca059e",
   "metadata": {},
   "outputs": [
    {
     "name": "stdout",
     "output_type": "stream",
     "text": [
      "[[-1.13759292  0.6503849  -1.26491106 -1.08012345  0.87904907 -1.\n",
      "   1.08012345 -1.54638428  0.79056942  1.05266714  0.90219371 -1.08012345\n",
      "  -1.23131192  1.10840941 -1.10840941]\n",
      " [ 0.87904907  0.22408219  0.79056942  0.9258201   0.87904907  1.\n",
      "  -0.9258201   0.64666979  0.79056942 -0.94996791  0.90219371  0.9258201\n",
      "   0.8121419  -0.90219371  0.90219371]\n",
      " [ 0.87904907  0.01093084 -1.26491106 -1.08012345 -1.13759292 -1.\n",
      "   1.08012345 -1.54638428  0.79056942 -0.94996791  0.90219371  0.9258201\n",
      "   0.8121419   1.10840941  0.90219371]\n",
      " [ 0.87904907  0.6503849  -1.26491106 -1.08012345  0.87904907  1.\n",
      "   1.08012345 -1.54638428 -1.26491106 -0.94996791  0.90219371 -1.08012345\n",
      "  -1.23131192 -0.90219371 -1.10840941]\n",
      " [-1.13759292  0.54380923  0.79056942  0.9258201   0.87904907  1.\n",
      "  -0.9258201   0.64666979 -1.26491106 -0.94996791 -1.10840941 -1.08012345\n",
      "  -1.23131192 -0.90219371 -1.10840941]\n",
      " [-1.13759292  0.33065787  0.79056942  0.9258201   0.87904907  1.\n",
      "  -0.9258201   0.64666979 -1.26491106  1.05266714 -1.10840941  0.9258201\n",
      "   0.8121419   1.10840941 -1.10840941]\n",
      " [-1.13759292 -0.7350989   0.79056942  0.9258201   0.87904907  1.\n",
      "   1.08012345  0.64666979 -1.26491106  1.05266714 -1.10840941  0.9258201\n",
      "   0.8121419   1.10840941 -1.10840941]\n",
      " [-1.13759292  0.97011194  0.79056942  0.9258201   0.87904907  1.\n",
      "   1.08012345  0.64666979 -1.26491106  1.05266714 -1.10840941  0.9258201\n",
      "  -1.23131192  1.10840941  0.90219371]\n",
      " [-1.13759292 -0.09564484  0.79056942  0.9258201   0.87904907 -1.\n",
      "  -0.9258201   0.64666979  0.79056942 -0.94996791  0.90219371 -1.08012345\n",
      "   0.8121419   1.10840941  0.90219371]\n",
      " [-1.13759292 -0.62852323 -1.26491106  0.9258201  -1.13759292 -1.\n",
      "   1.08012345  0.64666979  0.79056942  1.05266714 -1.10840941  0.9258201\n",
      "   0.8121419  -0.90219371  0.90219371]\n",
      " [ 0.87904907  0.22408219 -1.26491106  0.9258201   0.87904907  1.\n",
      "  -0.9258201  -1.54638428  0.79056942 -0.94996791  0.90219371 -1.08012345\n",
      "  -1.23131192  1.10840941  0.90219371]\n",
      " [-1.13759292  0.01093084 -1.26491106 -1.08012345 -1.13759292  1.\n",
      "  -0.9258201  -1.54638428 -1.26491106  1.05266714  0.90219371 -1.08012345\n",
      "  -1.23131192  1.10840941  0.90219371]\n",
      " [-1.13759292 -0.62852323  0.79056942  0.9258201   0.87904907 -1.\n",
      "  -0.9258201   0.64666979  0.79056942 -0.94996791 -1.10840941 -1.08012345\n",
      "   0.8121419  -0.90219371  0.90219371]\n",
      " [ 0.87904907 -1.05482594 -1.26491106  0.9258201   0.87904907 -1.\n",
      "   1.08012345 -1.54638428  0.79056942  1.05266714  0.90219371  0.9258201\n",
      "  -1.23131192  1.10840941 -1.10840941]\n",
      " [-1.13759292 -4.35867194  0.79056942 -1.08012345 -1.13759292 -1.\n",
      "   1.08012345  0.64666979  0.79056942 -0.94996791 -1.10840941 -1.08012345\n",
      "   0.8121419  -0.90219371 -1.10840941]\n",
      " [ 0.87904907  0.54380923  0.79056942 -1.08012345  0.87904907 -1.\n",
      "  -0.9258201   0.64666979  0.79056942 -0.94996791  0.90219371  0.9258201\n",
      "   0.8121419  -0.90219371  0.90219371]\n",
      " [ 0.87904907 -0.30879619  0.79056942 -1.08012345 -1.13759292 -1.\n",
      "  -0.9258201   0.64666979  0.79056942  1.05266714  0.90219371  0.9258201\n",
      "   0.8121419  -0.90219371  0.90219371]\n",
      " [-1.13759292 -1.37455297 -1.26491106  0.9258201   0.87904907 -1.\n",
      "  -0.9258201  -1.54638428 -1.26491106 -0.94996791 -1.10840941  0.9258201\n",
      "  -1.23131192 -0.90219371 -1.10840941]\n",
      " [ 0.87904907 -0.09564484 -1.26491106 -1.08012345  0.87904907  1.\n",
      "   1.08012345 -1.54638428 -1.26491106 -0.94996791  0.90219371 -1.08012345\n",
      "  -1.23131192 -0.90219371 -1.10840941]\n",
      " [ 0.87904907  0.6503849   0.79056942 -1.08012345  0.87904907 -1.\n",
      "  -0.9258201   0.64666979 -1.26491106 -0.94996791 -1.10840941 -1.08012345\n",
      "  -1.23131192 -0.90219371 -1.10840941]\n",
      " [ 0.87904907  0.33065787  0.79056942  0.9258201   0.87904907  1.\n",
      "   1.08012345 -1.54638428 -1.26491106 -0.94996791 -1.10840941 -1.08012345\n",
      "  -1.23131192 -0.90219371 -1.10840941]\n",
      " [-1.13759292 -1.48112865 -1.26491106  0.9258201   0.87904907  1.\n",
      "   1.08012345  0.64666979  0.79056942  1.05266714 -1.10840941  0.9258201\n",
      "   0.8121419   1.10840941 -1.10840941]\n",
      " [-1.13759292 -0.7350989   0.79056942 -1.08012345 -1.13759292  1.\n",
      "   1.08012345  0.64666979  0.79056942  1.05266714  0.90219371 -1.08012345\n",
      "  -1.23131192  1.10840941  0.90219371]\n",
      " [ 0.87904907  0.86353626 -1.26491106  0.9258201  -1.13759292  1.\n",
      "   1.08012345  0.64666979  0.79056942  1.05266714  0.90219371  0.9258201\n",
      "  -1.23131192  1.10840941  0.90219371]]\n"
     ]
    }
   ],
   "source": [
    "print(X_test[0:24])"
   ]
  },
  {
   "cell_type": "code",
   "execution_count": 18,
   "id": "3e40750a",
   "metadata": {},
   "outputs": [
    {
     "data": {
      "text/plain": [
       "RandomForestClassifier(criterion='entropy', n_estimators=20, random_state=0)"
      ]
     },
     "execution_count": 18,
     "metadata": {},
     "output_type": "execute_result"
    }
   ],
   "source": [
    "from sklearn.ensemble import RandomForestClassifier\n",
    "classifier = RandomForestClassifier(n_estimators=20, criterion = \"entropy\", random_state=0)\n",
    "classifier.fit(X_train, Y_train)"
   ]
  },
  {
   "cell_type": "code",
   "execution_count": 23,
   "id": "ecdbb6af",
   "metadata": {},
   "outputs": [
    {
     "name": "stdout",
     "output_type": "stream",
     "text": [
      "[0]\n"
     ]
    }
   ],
   "source": [
    "print(classifier.predict(sc.transform([[1,1,1,1,1,1,1,1,1,1,1,1,1,1,1]])))"
   ]
  },
  {
   "cell_type": "code",
   "execution_count": 24,
   "id": "1e8594be",
   "metadata": {},
   "outputs": [
    {
     "name": "stdout",
     "output_type": "stream",
     "text": [
      "[[1 1]\n",
      " [1 1]\n",
      " [1 1]\n",
      " [0 0]\n",
      " [0 1]\n",
      " [1 1]\n",
      " [1 1]\n",
      " [1 1]\n",
      " [1 1]\n",
      " [1 1]\n",
      " [1 1]\n",
      " [1 1]\n",
      " [1 1]\n",
      " [1 1]\n",
      " [0 0]\n",
      " [1 1]\n",
      " [1 1]\n",
      " [0 1]\n",
      " [0 0]\n",
      " [1 0]\n",
      " [1 1]\n",
      " [1 1]\n",
      " [1 1]\n",
      " [1 1]\n",
      " [0 0]\n",
      " [0 0]\n",
      " [1 1]\n",
      " [1 1]\n",
      " [1 1]\n",
      " [1 1]\n",
      " [1 1]\n",
      " [1 1]\n",
      " [1 1]\n",
      " [1 1]\n",
      " [1 1]\n",
      " [1 1]\n",
      " [1 1]\n",
      " [1 1]\n",
      " [1 1]\n",
      " [1 1]\n",
      " [1 1]\n",
      " [1 1]\n",
      " [1 1]\n",
      " [1 1]\n",
      " [1 1]\n",
      " [0 0]\n",
      " [1 1]\n",
      " [1 1]\n",
      " [1 1]\n",
      " [1 0]\n",
      " [1 1]\n",
      " [1 0]\n",
      " [1 1]\n",
      " [1 1]\n",
      " [1 1]\n",
      " [1 1]\n",
      " [1 1]\n",
      " [1 0]\n",
      " [1 1]\n",
      " [1 1]\n",
      " [1 1]\n",
      " [1 1]\n",
      " [1 1]\n",
      " [1 1]\n",
      " [1 1]\n",
      " [1 1]\n",
      " [1 1]\n",
      " [1 1]\n",
      " [0 1]\n",
      " [1 1]\n",
      " [1 1]\n",
      " [1 1]\n",
      " [1 1]\n",
      " [1 1]\n",
      " [0 1]\n",
      " [1 1]\n",
      " [1 1]\n",
      " [1 1]]\n"
     ]
    }
   ],
   "source": [
    "Y_pred = classifier.predict(X_test)\n",
    "print(np.concatenate((Y_pred.reshape(len(Y_pred),1), Y_test.reshape(len(Y_test),1)),1))"
   ]
  },
  {
   "cell_type": "code",
   "execution_count": 25,
   "id": "d69a39c7",
   "metadata": {},
   "outputs": [
    {
     "name": "stdout",
     "output_type": "stream",
     "text": [
      "[[ 6  4]\n",
      " [ 4 64]]\n",
      "0.8974358974358975\n"
     ]
    }
   ],
   "source": [
    "from sklearn.metrics import confusion_matrix, accuracy_score\n",
    "print(confusion_matrix(Y_test, Y_pred))\n",
    "#print(classification_report(Y_test, Y_pred))\n",
    "print(accuracy_score(Y_test, Y_pred))"
   ]
  },
  {
   "cell_type": "code",
   "execution_count": 35,
   "id": "3096ce98",
   "metadata": {},
   "outputs": [],
   "source": [
    "def save_trees_as_png(clf, iteration, feature_name, target_name):\n",
    "    file_name = \"Level_\" + str(iteration) + \".png\"\n",
    "    dot_data = export_graphviz(\n",
    "    clf,\n",
    "    out_file=None,\n",
    "    feature_names=feature_name,\n",
    "    #Class_names=target_name,\n",
    "    rounded=True,\n",
    "    proportion=False,\n",
    "    precision=2,\n",
    "    filled=True,\n",
    "    )\n",
    "    graph = pydotplus.graphviz.graph_from_dot_data(dot_data)\n",
    "    graph.write_png(file_name)\n",
    "    print(\"Decision Tree {} saved as png file\".format(iteration +1))"
   ]
  },
  {
   "cell_type": "code",
   "execution_count": 36,
   "id": "4c367df3",
   "metadata": {},
   "outputs": [
    {
     "data": {
      "text/plain": [
       "[DecisionTreeClassifier(criterion='entropy', max_features='auto',\n",
       "                        random_state=209652396),\n",
       " DecisionTreeClassifier(criterion='entropy', max_features='auto',\n",
       "                        random_state=398764591),\n",
       " DecisionTreeClassifier(criterion='entropy', max_features='auto',\n",
       "                        random_state=924231285),\n",
       " DecisionTreeClassifier(criterion='entropy', max_features='auto',\n",
       "                        random_state=1478610112),\n",
       " DecisionTreeClassifier(criterion='entropy', max_features='auto',\n",
       "                        random_state=441365315),\n",
       " DecisionTreeClassifier(criterion='entropy', max_features='auto',\n",
       "                        random_state=1537364731),\n",
       " DecisionTreeClassifier(criterion='entropy', max_features='auto',\n",
       "                        random_state=192771779),\n",
       " DecisionTreeClassifier(criterion='entropy', max_features='auto',\n",
       "                        random_state=1491434855),\n",
       " DecisionTreeClassifier(criterion='entropy', max_features='auto',\n",
       "                        random_state=1819583497),\n",
       " DecisionTreeClassifier(criterion='entropy', max_features='auto',\n",
       "                        random_state=530702035),\n",
       " DecisionTreeClassifier(criterion='entropy', max_features='auto',\n",
       "                        random_state=626610453),\n",
       " DecisionTreeClassifier(criterion='entropy', max_features='auto',\n",
       "                        random_state=1650906866),\n",
       " DecisionTreeClassifier(criterion='entropy', max_features='auto',\n",
       "                        random_state=1879422756),\n",
       " DecisionTreeClassifier(criterion='entropy', max_features='auto',\n",
       "                        random_state=1277901399),\n",
       " DecisionTreeClassifier(criterion='entropy', max_features='auto',\n",
       "                        random_state=1682652230),\n",
       " DecisionTreeClassifier(criterion='entropy', max_features='auto',\n",
       "                        random_state=243580376),\n",
       " DecisionTreeClassifier(criterion='entropy', max_features='auto',\n",
       "                        random_state=1991416408),\n",
       " DecisionTreeClassifier(criterion='entropy', max_features='auto',\n",
       "                        random_state=1171049868),\n",
       " DecisionTreeClassifier(criterion='entropy', max_features='auto',\n",
       "                        random_state=1646868794),\n",
       " DecisionTreeClassifier(criterion='entropy', max_features='auto',\n",
       "                        random_state=2051556033)]"
      ]
     },
     "execution_count": 36,
     "metadata": {},
     "output_type": "execute_result"
    }
   ],
   "source": [
    "classifier.estimators_"
   ]
  },
  {
   "cell_type": "code",
   "execution_count": 32,
   "id": "78a68b2c",
   "metadata": {},
   "outputs": [
    {
     "data": {
      "text/plain": [
       "DecisionTreeClassifier(criterion='entropy', max_features='auto',\n",
       "                       random_state=209652396)"
      ]
     },
     "execution_count": 32,
     "metadata": {},
     "output_type": "execute_result"
    }
   ],
   "source": [
    "classifier.estimators_[0]"
   ]
  },
  {
   "cell_type": "code",
   "execution_count": null,
   "id": "dc5c2d50",
   "metadata": {},
   "outputs": [],
   "source": []
  },
  {
   "cell_type": "code",
   "execution_count": null,
   "id": "0da09c0d",
   "metadata": {},
   "outputs": [],
   "source": []
  },
  {
   "cell_type": "code",
   "execution_count": null,
   "id": "57925eb5",
   "metadata": {},
   "outputs": [],
   "source": []
  },
  {
   "cell_type": "code",
   "execution_count": null,
   "id": "55abf6ff",
   "metadata": {},
   "outputs": [],
   "source": []
  }
 ],
 "metadata": {
  "kernelspec": {
   "display_name": "Python 3 (ipykernel)",
   "language": "python",
   "name": "python3"
  },
  "language_info": {
   "codemirror_mode": {
    "name": "ipython",
    "version": 3
   },
   "file_extension": ".py",
   "mimetype": "text/x-python",
   "name": "python",
   "nbconvert_exporter": "python",
   "pygments_lexer": "ipython3",
   "version": "3.9.13"
  }
 },
 "nbformat": 4,
 "nbformat_minor": 5
}
